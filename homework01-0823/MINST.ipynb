{
 "cells": [
  {
   "cell_type": "markdown",
   "metadata": {},
   "source": [
    "# “火炬上的深度学习\"第一次大作业\n",
    "\n",
    "在这个作业中，你需要半独立地利用人工神经网络搭建一个手写数字识别器\n",
    "\n",
    "本文件是集智AI学园http://campus.swarma.org 出品的“火炬上的深度学习”第II课的配套源代码"
   ]
  },
  {
   "cell_type": "code",
   "execution_count": 38,
   "metadata": {
    "collapsed": true
   },
   "outputs": [],
   "source": [
    "\n",
    "\"\"\"简单的 LeNet-5类型的卷积神经网络模型，MNIST例子.\n",
    "\"\"\"\n",
    "\n",
    "#所有依赖包\n",
    "\n",
    "import gzip\n",
    "import os\n",
    "import sys\n",
    "\n",
    "import numpy as np\n",
    "from six.moves import urllib\n",
    "import torch\n",
    "from torch.autograd import Variable\n",
    "import torch.optim as optim\n",
    "\n",
    "import matplotlib.pylab as plt\n",
    "\n",
    "#定义一系列常数\n",
    "SOURCE_URL = 'http://yann.lecun.com/exdb/mnist/' #图像数据如果没下载，可以从这个地址下载\n",
    "WORK_DIRECTORY = 'data' #存储的路径名\n",
    "IMAGE_SIZE = 28 #每张图片的大小尺寸\n",
    "NUM_CHANNELS = 1  #每张图片的通道数\n",
    "PIXEL_DEPTH = 255 #像素的深度0-255\n",
    "NUM_LABELS = 10 #手写数字，一共十种\n",
    "\n",
    "%matplotlib inline\n",
    "\n"
   ]
  },
  {
   "cell_type": "markdown",
   "metadata": {},
   "source": [
    "# 读取MINST图形文件"
   ]
  },
  {
   "cell_type": "code",
   "execution_count": 39,
   "metadata": {
    "collapsed": false
   },
   "outputs": [
    {
     "name": "stdout",
     "output_type": "stream",
     "text": [
      "data/train-images-idx3-ubyte.gz data/train-labels-idx1-ubyte.gz data/t10k-images-idx3-ubyte.gz data/t10k-labels-idx1-ubyte.gz\n",
      "Extracting data/train-images-idx3-ubyte.gz\n",
      "Extracting data/train-labels-idx1-ubyte.gz\n",
      "Extracting data/t10k-images-idx3-ubyte.gz\n",
      "Extracting data/t10k-labels-idx1-ubyte.gz\n"
     ]
    },
    {
     "data": {
      "text/plain": [
       "((60000, 784), (60000,))"
      ]
     },
     "execution_count": 39,
     "metadata": {},
     "output_type": "execute_result"
    }
   ],
   "source": [
    "#下载图像文件，如果文件已经存在，那么就不下载。\n",
    "def maybe_download(filename):\n",
    "    \"\"\"Download the data from Yann's website, unless it's already here.\"\"\"\n",
    "    if not os.path.isdir(WORK_DIRECTORY):\n",
    "        os.mkdir(WORK_DIRECTORY)\n",
    "    filepath = os.path.join(WORK_DIRECTORY, filename)\n",
    "    if not os.path.exists(filepath):\n",
    "        filepath, _ = urllib.request.urlretrieve(SOURCE_URL + filename, filepath)\n",
    "        size = os.path.getsize(filepath)\n",
    "        print('Successfully downloaded', filename, size, 'bytes.')\n",
    "    return filepath\n",
    "# Get the data.\n",
    "train_data_filename = maybe_download('train-images-idx3-ubyte.gz')\n",
    "train_labels_filename = maybe_download('train-labels-idx1-ubyte.gz')\n",
    "test_data_filename = maybe_download('t10k-images-idx3-ubyte.gz')\n",
    "test_labels_filename = maybe_download('t10k-labels-idx1-ubyte.gz')\n",
    "print(train_data_filename, train_labels_filename, test_data_filename, test_labels_filename)\n",
    "\n",
    "# train_data_filename = './data/train-images-idx3-ubyte.gz'\n",
    "# train_labels_filename = './data/train-labels-idx1-ubyte.gz'\n",
    "# test_data_filename = './data/t10k-images-idx3-ubyte.gz'\n",
    "# test_labels_filename = './data/t10k-labels-idx1-ubyte.gz'\n",
    "\n",
    "def extract_data(filename, num_images):\n",
    "    # filename: 文件存放的路径，num_images: 读入的图片个数\n",
    "    \"\"\"将图像解压缩展开，读入成一个4维的张量： [image index（图像的编码）, y（纵坐标）, x（横坐标）, channels（通道）].\n",
    "    我们将数组中的数值范围从原来的[0, 255]降低到了[-0.5, 0.5]范围内\n",
    "    \"\"\"\n",
    "    print('Extracting', filename)\n",
    "    with gzip.open(filename) as bytestream:\n",
    "        bytestream.read(16)\n",
    "        buf = bytestream.read(IMAGE_SIZE * IMAGE_SIZE * num_images * NUM_CHANNELS)\n",
    "        data = np.frombuffer(buf, dtype=np.uint8).astype(np.float32)\n",
    "        data = (data - (PIXEL_DEPTH / 2.0)) / PIXEL_DEPTH\n",
    "        data = data.reshape(num_images, NUM_CHANNELS, IMAGE_SIZE, IMAGE_SIZE)\n",
    "        return data\n",
    "\n",
    "def extract_labels(filename, num_images):\n",
    "    \"\"\"将label的数据文件解压缩，并将label读成64位的整数\"\"\"\n",
    "    print('Extracting', filename)\n",
    "    with gzip.open(filename) as bytestream:\n",
    "        bytestream.read(8)\n",
    "        buf = bytestream.read(1 * num_images)\n",
    "        labels = np.frombuffer(buf, dtype=np.uint8).astype(np.int64)\n",
    "    return labels\n",
    "\n",
    "# 将数据解压缩并存储到数组中，60000张图片，60000个label，测试集中有10000张图片\n",
    "train_data = extract_data(train_data_filename, 60000)\n",
    "train_X = train_data.reshape(len(train_data), -1)\n",
    "train_labels = extract_labels(train_labels_filename, 60000)\n",
    "train_Y = train_labels\n",
    "test_data = extract_data(test_data_filename, 10000)\n",
    "test_X = test_data.reshape(len(test_data), -1)\n",
    "\n",
    "test_labels = extract_labels(test_labels_filename, 10000)\n",
    "test_Y = test_labels\n",
    "train_X.shape, train_Y.shape\n",
    "\n",
    "# train_X, train_Y 中分别存储的是向量化的训练数据与标签\n",
    "# test_X, test_Y 中分别存储的是向量化的测试数据与标签\n",
    "# train_X的维度是60000个样本，784个分量的图像向量\n",
    "# test_X的维度是10000个样本，784个分量的图像向量"
   ]
  },
  {
   "cell_type": "code",
   "execution_count": 40,
   "metadata": {
    "collapsed": false
   },
   "outputs": [
    {
     "name": "stdout",
     "output_type": "stream",
     "text": [
      "[5 0 4 ..., 5 6 8]\n",
      "60000\n"
     ]
    }
   ],
   "source": [
    "print(train_labels)\n",
    "print(len(train_labels))"
   ]
  },
  {
   "cell_type": "markdown",
   "metadata": {},
   "source": [
    "# 在这里写下你自己的代码"
   ]
  },
  {
   "cell_type": "markdown",
   "metadata": {},
   "source": [
    "### 第一步：定义神经网络，提示，可以使用简单的torch.nn.SequentialModel\n",
    "\n",
    "本文件是集智AI学园http://campus.swarma.org 出品的“火炬上的深度学习”第II课的配套源代码"
   ]
  },
  {
   "cell_type": "code",
   "execution_count": 53,
   "metadata": {
    "collapsed": false
   },
   "outputs": [],
   "source": [
    "# 提示：需要考虑好网络有几层，每一层有多少个节点\n",
    "#  下面7%的错误率是基于此结果跑的，想减少大矩阵运算，但是结果不怎么好\n",
    "# net = torch.nn.Sequential(\n",
    "#     torch.nn.Linear(784, 10),\n",
    "#     torch.nn.Sigmoid(),\n",
    "#     torch.nn.Linear(10, 10),\n",
    "#     torch.nn.Sigmoid(),\n",
    "#     torch.nn.Sigmoid(),\n",
    "#     torch.nn.Linear()\n",
    "# )\n",
    "\n",
    "# 问题：如果要增加新的神经网络层怎么办？\n",
    "net = torch.nn.Sequential(\n",
    "    torch.nn.Linear(784, 10),\n",
    "    torch.nn.Sigmoid(),\n",
    "    torch.nn.Sigmoid(),\n",
    "    torch.nn.Sigmoid(),\n",
    "    torch.nn.Sigmoid(),\n",
    "    torch.nn.Sigmoid(),\n",
    "    torch.nn.Sigmoid(),\n",
    "    torch.nn.Linear(10, 10)\n",
    ")"
   ]
  },
  {
   "cell_type": "markdown",
   "metadata": {},
   "source": [
    "### 第二步：构造损失函数和优化器"
   ]
  },
  {
   "cell_type": "code",
   "execution_count": 54,
   "metadata": {
    "collapsed": true
   },
   "outputs": [],
   "source": [
    "cost = torch.nn.CrossEntropyLoss()\n",
    "optimizer = torch.optim.SGD(net.parameters(), lr = 0.1)"
   ]
  },
  {
   "cell_type": "markdown",
   "metadata": {},
   "source": [
    "### 第三步：开始训练循环"
   ]
  },
  {
   "cell_type": "code",
   "execution_count": 56,
   "metadata": {
    "collapsed": false
   },
   "outputs": [
    {
     "name": "stdout",
     "output_type": "stream",
     "text": [
      "0 0.14589 3.8934790334\n",
      "100 0.14289 3.80907960199\n",
      "200 0.140283 3.72079335466\n",
      "300 0.137955 3.63917022033\n",
      "400 0.135796 3.57753642502\n",
      "500 0.133719 3.52589729922\n",
      "600 0.131822 3.49258173419\n",
      "700 0.130159 3.43427949538\n",
      "800 0.128666 3.37875355366\n",
      "900 0.127379 3.32211709311\n"
     ]
    }
   ],
   "source": [
    "# 定义一个专门计算分类错误率的函数，它的基本思想是，对于预测向量predictions的每一行，\n",
    "# 取最大的那个元素的下标，与标签labels中的元素做比较\n",
    "def error_rate(predictions, labels):\n",
    "    predictions = np.argmax(predictions, 1)\n",
    "    return 100.0 - (100.0 * np.sum(predictions == labels) / predictions.shape[0])\n",
    "\n",
    "# 提示：有两重循环，最外面层是多少次的训练，里层为对数据批次（batch）的循环\n",
    "\n",
    "losses = []\n",
    "errors = []\n",
    "# 神经网络训练循环\n",
    "batch_size = 128\n",
    "for i in range(1000):\n",
    "#     每128个样本点被划分为一个撮，在循环的时候一撮一撮地读取\n",
    "   batch_loss = []\n",
    "   batch_error = []\n",
    "#     start和end分别是提取一个batch数据的起始和终止下标\n",
    "   for start in range(0, len(train_X), batch_size):\n",
    "       end = start + batch_size if start + batch_size < len(train_X) else len(train_X)\n",
    "       xx = Variable(torch.FloatTensor(train_X[start:end])) #从训练数据train_X中提取数据\n",
    "       yy = Variable(torch.LongTensor(train_Y[start:end]))  #从训练数据train_Y中提取标签，注意标签数据为整数，因此相应的tensor也要为long\n",
    "       predict = net(xx) #用神经网络进行预测\n",
    "       loss = cost(predict, yy) #计算损失函数（交叉熵）\n",
    "       err = error_rate(predict.data.numpy(), yy.data.numpy())\n",
    "   \n",
    "       optimizer.zero_grad() #清空梯度\n",
    "       loss.backward() #开始反向传播\n",
    "       optimizer.step() #开始更新梯度\n",
    "       batch_loss.append(loss.data.numpy())\n",
    "       batch_error.append(err)\n",
    "    \n",
    "#     每隔100步输出一下损失值（loss）\n",
    "   if i % 100==0:\n",
    "       losses.append(np.mean(batch_loss))\n",
    "       errors.append(np.mean(batch_error))\n",
    "       print(i, np.mean(batch_loss), np.mean(batch_error))"
   ]
  },
  {
   "cell_type": "markdown",
   "metadata": {},
   "source": [
    "### 请在这里写下你自己的回答"
   ]
  },
  {
   "cell_type": "code",
   "execution_count": 57,
   "metadata": {
    "collapsed": false
   },
   "outputs": [
    {
     "data": {
      "text/plain": [
       "<matplotlib.legend.Legend at 0x120ff3dd8>"
      ]
     },
     "execution_count": 57,
     "metadata": {},
     "output_type": "execute_result"
    },
    {
     "data": {
      "image/png": "[encoded data removed]",
      "text/plain": [
       "<matplotlib.figure.Figure at 0x120d63940>"
      ]
     },
     "metadata": {},
     "output_type": "display_data"
    }
   ],
   "source": [
    "\n",
    "# 请绘制上面训练过程的损失函数曲线，以及'''错误率曲线'''！！！\n",
    "plt.plot(np.arange(len(losses))*100, losses, label='Cross Entropy')\n",
    "plt.plot(np.arange(len(losses))*100, np.array(errors) / float(100), label='Error Rate')\n",
    "plt.xlabel('epoch')\n",
    "plt.ylabel('Cross Entropy/Error rates')\n",
    "plt.legend()"
   ]
  },
  {
   "cell_type": "markdown",
   "metadata": {},
   "source": [
    "### 第四步：在测试集上测试模型"
   ]
  },
  {
   "cell_type": "code",
   "execution_count": 58,
   "metadata": {
    "collapsed": true
   },
   "outputs": [],
   "source": [
    "# 定义一个专门计算分类错误率的函数，它的基本思想是，对于预测向量predictions的每一行，\n",
    "# 取最大的那个元素的下标，与标签labels中的元素做比较\n",
    "#def error_rate(predictions, labels):\n",
    "#    \"\"\"计算预测错误率的函数，其中predictions是模型给出的一组预测结果，labels是数据之中的正确答案\"\"\"\n",
    "#    predictions = np.argmax(predictions, 1)\n",
    "#    return 100.0 - (\n",
    "#      100.0 *\n",
    "#      np.sum( predictions == labels) /\n",
    "#      predictions.shape[0])"
   ]
  },
  {
   "cell_type": "code",
   "execution_count": 59,
   "metadata": {
    "collapsed": false
   },
   "outputs": [
    {
     "name": "stdout",
     "output_type": "stream",
     "text": [
      "1 5.46875\n",
      "2 6.25\n",
      "3 9.375\n",
      "4 10.9375\n",
      "5 11.71875\n",
      "6 8.59375\n",
      "7 10.9375\n",
      "8 8.59375\n",
      "9 5.46875\n",
      "10 17.1875\n",
      "11 6.25\n",
      "12 14.84375\n",
      "13 8.59375\n",
      "14 9.375\n",
      "15 10.9375\n",
      "16 9.375\n",
      "17 15.625\n",
      "18 7.03125\n",
      "19 14.0625\n",
      "20 4.6875\n",
      "21 14.84375\n",
      "22 8.59375\n",
      "23 9.375\n",
      "24 14.84375\n",
      "25 7.8125\n",
      "26 10.15625\n",
      "27 10.15625\n",
      "28 8.59375\n",
      "29 9.375\n",
      "30 16.40625\n",
      "31 10.9375\n",
      "32 10.15625\n",
      "33 11.71875\n",
      "34 10.9375\n",
      "35 10.15625\n",
      "36 8.59375\n",
      "37 6.25\n",
      "38 11.71875\n",
      "39 13.28125\n",
      "40 3.125\n",
      "41 7.03125\n",
      "42 2.34375\n",
      "43 2.34375\n",
      "44 3.90625\n",
      "45 9.375\n",
      "46 3.90625\n",
      "47 8.59375\n",
      "48 9.375\n",
      "49 4.6875\n",
      "50 2.34375\n",
      "51 3.90625\n",
      "52 18.75\n",
      "53 6.25\n",
      "54 2.34375\n",
      "55 0.78125\n",
      "56 0.78125\n",
      "57 5.46875\n",
      "58 3.90625\n",
      "59 8.59375\n",
      "60 0.78125\n",
      "61 0.78125\n",
      "62 11.71875\n",
      "63 4.6875\n",
      "64 3.125\n",
      "65 10.9375\n",
      "66 6.25\n",
      "67 3.125\n",
      "68 0.0\n",
      "69 0.0\n",
      "70 2.34375\n",
      "71 9.375\n",
      "72 4.6875\n",
      "73 2.34375\n",
      "74 4.6875\n",
      "75 7.03125\n",
      "76 10.9375\n",
      "77 16.40625\n",
      "78 8.59375\n",
      "79 6.25\n",
      "平均错误率：7.8619%\n"
     ]
    }
   ],
   "source": [
    "# 分多个batch计算测试结果\n",
    "errors = []\n",
    "losses = []\n",
    "i = 0\n",
    "for start in range(0, len(test_X), batch_size):\n",
    "   end = start + batch_size if start + batch_size < len(test_X) else len(test_X)\n",
    "   i += 1\n",
    "   x = Variable(torch.FloatTensor(test_X[start:end]))\n",
    "   y = Variable(torch.LongTensor(test_Y[start:end]))\n",
    "   predictions = net(x)\n",
    "   loss = cost(predictions, y)\n",
    "   err_rate = error_rate(predictions.data.numpy(), y.data.numpy())\n",
    "   errors.append(err_rate)\n",
    "   losses.append(loss.data.numpy())\n",
    "   print(i, err_rate)\n",
    "\n",
    "print('平均错误率：%.4f%%'%np.mean(errors))"
   ]
  },
  {
   "cell_type": "markdown",
   "metadata": {},
   "source": [
    "### 用单个图像进行测试"
   ]
  },
  {
   "cell_type": "code",
   "execution_count": 60,
   "metadata": {
    "collapsed": false
   },
   "outputs": [
    {
     "data": {
      "text/plain": [
       "<matplotlib.image.AxesImage at 0x121078b70>"
      ]
     },
     "execution_count": 60,
     "metadata": {},
     "output_type": "execute_result"
    },
    {
     "data": {
      "image/png": "[encoded data removed]",
      "text/plain": [
       "<matplotlib.figure.Figure at 0x121031518>"
      ]
     },
     "metadata": {},
     "output_type": "display_data"
    }
   ],
   "source": [
    "#随便从数据集中读入一张图片，并绘制出来\n",
    "idx = 100\n",
    "muteimg = test_data[idx, 0, :, :]\n",
    "plt.imshow(muteimg)"
   ]
  },
  {
   "cell_type": "code",
   "execution_count": 61,
   "metadata": {
    "collapsed": false
   },
   "outputs": [
    {
     "data": {
      "text/plain": [
       "6"
      ]
     },
     "execution_count": 61,
     "metadata": {},
     "output_type": "execute_result"
    }
   ],
   "source": [
    "# 计算识别结果\n",
    "x = Variable(torch.FloatTensor(test_X[idx, :].reshape(1, -1)))\n",
    "predict = net(x)\n",
    "np.argmax(predict.data.numpy())"
   ]
  },
  {
   "cell_type": "markdown",
   "metadata": {},
   "source": [
    "## 升级版"
   ]
  },
  {
   "cell_type": "markdown",
   "metadata": {},
   "source": [
    "如果你已经运行跑通上面的所有代码，那么请你尝试对其进行更改，让测试集上面的识别错误率进一步下降，看看能不能到1%以下\n",
    "\n",
    "提示：可以考虑增加层的深度\n",
    "\n",
    "本文件是集智AI学园http://campus.swarma.org 出品的“火炬上的深度学习”第II课的配套源代码"
   ]
  }
 ],
 "metadata": {
  "kernelspec": {
   "display_name": "Python 3",
   "language": "python",
   "name": "python3"
  },
  "language_info": {
   "codemirror_mode": {
    "name": "ipython",
    "version": 3
   },
   "file_extension": ".py",
   "mimetype": "text/x-python",
   "name": "python",
   "nbconvert_exporter": "python",
   "pygments_lexer": "ipython3",
   "version": "3.6.0"
  }
 },
 "nbformat": 4,
 "nbformat_minor": 2
}
