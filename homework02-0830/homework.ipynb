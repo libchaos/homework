{
 "cells": [
  {
   "cell_type": "markdown",
   "metadata": {},
   "source": [
    "## 处理训练数据"
   ]
  },
  {
   "cell_type": "code",
   "execution_count": 19,
   "metadata": {
    "collapsed": false
   },
   "outputs": [
    {
     "name": "stdout",
     "output_type": "stream",
     "text": [
      "['../../data/names/Arabic.txt', '../../data/names/Chinese.txt', '../../data/names/Czech.txt', '../../data/names/Dutch.txt', '../../data/names/English.txt', '../../data/names/French.txt', '../../data/names/German.txt', '../../data/names/Greek.txt', '../../data/names/Irish.txt', '../../data/names/Italian.txt', '../../data/names/Japanese.txt', '../../data/names/Korean.txt', '../../data/names/Polish.txt', '../../data/names/Portuguese.txt', '../../data/names/Russian.txt', '../../data/names/Scottish.txt', '../../data/names/Spanish.txt', '../../data/names/Vietnamese.txt']\n"
     ]
    }
   ],
   "source": [
    "import glob\n",
    "all_filenames = glob.glob('../../data/names/*.txt')\n",
    "print(all_filenames)"
   ]
  },
  {
   "cell_type": "code",
   "execution_count": 20,
   "metadata": {
    "collapsed": false
   },
   "outputs": [
    {
     "name": "stdout",
     "output_type": "stream",
     "text": [
      "Slusarski\n",
      "all_letters: abcdefghijklmnopqrstuvwxyzABCDEFGHIJKLMNOPQRSTUVWXYZ .,;', and length: 57\n"
     ]
    }
   ],
   "source": [
    "import unicodedata\n",
    "import string\n",
    "\n",
    "all_letters = string.ascii_letters + \" .,;'\"\n",
    "n_letters = len(all_letters)\n",
    "\n",
    "def unicode_to_ascii(s):\n",
    "    '''\n",
    "        将特别字母转为26个字母\n",
    "    '''\n",
    "    return ''.join(\n",
    "        c for c in unicodedata.normalize('NFD', s)\n",
    "        if unicodedata.category(c) != 'Mn'\n",
    "        and c in all_letters\n",
    "    )\n",
    "\n",
    "print(unicode_to_ascii('Ślusàrski'))\n",
    "print('all_letters: {}, and length: {}'.format(all_letters, len(all_letters)))\n"
   ]
  },
  {
   "cell_type": "code",
   "execution_count": 21,
   "metadata": {
    "collapsed": false
   },
   "outputs": [
    {
     "name": "stdout",
     "output_type": "stream",
     "text": [
      "all_categories:  ['Arabic', 'Chinese', 'Czech', 'Dutch', 'English', 'French', 'German', 'Greek', 'Irish', 'Italian', 'Japanese', 'Korean', 'Polish', 'Portuguese', 'Russian', 'Scottish', 'Spanish', 'Vietnamese']\n",
      "n_categories =  18\n"
     ]
    }
   ],
   "source": [
    "category_lines = {}\n",
    "all_categories = []\n",
    "\n",
    "def readLines(filename):\n",
    "    '''\n",
    "        逐行读取姓名，并转为ASCII\n",
    "    '''\n",
    "    lines = open(filename).read().strip().split('\\n')\n",
    "    return [unicode_to_ascii(line) for line in lines]\n",
    "\n",
    "for filename in all_filenames:\n",
    "    category = filename.split('/')[-1].split('.')[0]\n",
    "    all_categories.append(category)\n",
    "    lines = readLines(filename)\n",
    "    category_lines[category] = lines\n",
    "    \n",
    "n_categories = len(all_categories)\n",
    "print('all_categories: ', all_categories)\n",
    "print('n_categories = ', n_categories)    "
   ]
  },
  {
   "cell_type": "code",
   "execution_count": 22,
   "metadata": {
    "collapsed": false
   },
   "outputs": [
    {
     "name": "stdout",
     "output_type": "stream",
     "text": [
      "20074\n"
     ]
    }
   ],
   "source": [
    "all_line_num = 0\n",
    "for key in category_lines:\n",
    "    all_line_num += len(category_lines[key])\n",
    "print(all_line_num)"
   ]
  },
  {
   "cell_type": "code",
   "execution_count": 23,
   "metadata": {
    "collapsed": true
   },
   "outputs": [],
   "source": [
    "import torch\n",
    "import torch.nn as nn\n",
    "import torch.optim\n",
    "from torch.autograd import Variable\n",
    "\n",
    "import matplotlib.pyplot as plt\n",
    "import matplotlib.ticker as ticker\n",
    "\n",
    "import numpy as np\n",
    "\n",
    "%matplotlib inline"
   ]
  },
  {
   "cell_type": "code",
   "execution_count": 24,
   "metadata": {
    "collapsed": false
   },
   "outputs": [
    {
     "name": "stdout",
     "output_type": "stream",
     "text": [
      "category =  Chinese  / line =  Yan\n",
      "category =  1 / line =  [50, 0, 13]\n",
      "category =  Spanish  / line =  Silva\n",
      "category =  16 / line =  [44, 8, 11, 21, 0]\n",
      "category =  Dutch  / line =  Althuis\n",
      "category =  3 / line =  [26, 11, 19, 7, 20, 8, 18]\n",
      "category =  English  / line =  Hubbard\n",
      "category =  4 / line =  [33, 20, 1, 1, 0, 17, 3]\n",
      "category =  Czech  / line =  Ballalatak\n",
      "category =  2 / line =  [27, 0, 11, 11, 0, 11, 0, 19, 0, 10]\n"
     ]
    }
   ],
   "source": [
    "import random\n",
    "\n",
    "def random_training_pair():\n",
    "    category = random.choice(all_categories)\n",
    "    line = random.choice(category_lines[category])\n",
    "    category_index = all_categories.index(category)\n",
    "    line_index = [all_letters.index(letter) for letter in line]\n",
    "    return category, line, category_index, line_index\n",
    "\n",
    "for i in range(5):\n",
    "    category, line, category_index, line_index = random_training_pair()\n",
    "    print('category = ', category, ' / line = ', line)\n",
    "    print('category = ', category_index, '/ line = ', line_index)"
   ]
  },
  {
   "cell_type": "code",
   "execution_count": 25,
   "metadata": {
    "collapsed": true
   },
   "outputs": [],
   "source": [
    "def category_from_output(output):\n",
    "    '''\n",
    "    它可以把网络的输出（1 x 18的张量）转化成“最可能的语言类别”，这就需要找到18列数据中哪个概率值最大。\n",
    "    我们可以使用 `Tensor.topk` 方法来得到数据中最大值位置的索引。\n",
    "    '''\n",
    "    top_n, top_i = output.data.topk(1)\n",
    "    category_i = top_i[0][0]\n",
    "    return all_categories[category_i], category_i"
   ]
  },
  {
   "cell_type": "markdown",
   "metadata": {},
   "source": [
    "## 写LSTM模型"
   ]
  },
  {
   "cell_type": "code",
   "execution_count": 26,
   "metadata": {
    "collapsed": false
   },
   "outputs": [],
   "source": [
    "class LSTMNetwork(nn.Module):\n",
    "    def __init__(self, input_size, hidden_size, output_size, n_layers = 1):\n",
    "        super(LSTMNetwork, self).__init__()\n",
    "        self.n_layers = n_layers\n",
    "        self.hidden_size = hidden_size\n",
    "        self.embedding = nn.Embedding(input_size, hidden_size)\n",
    "        self.lstm = nn.LSTM(hidden_size, hidden_size, n_layers)\n",
    "        self.fc = nn.Linear(hidden_size, 18)\n",
    "        self.logsoftmax = nn.LogSoftmax()\n",
    "        \n",
    "    def forward(self, input, hidden=None):\n",
    "        embedded = self.embedding(input)\n",
    "        \n",
    "        embedded = embedded.view(input.data.size()[0], 1, self.hidden_size)\n",
    "        \n",
    "        output, hidden = self.lstm(embedded, hidden)\n",
    "        \n",
    "        output = output[-1, ...]\n",
    "        \n",
    "        out = self.fc(output)\n",
    "        out= self.logsoftmax(out)\n",
    "        return out\n",
    "    def initHidden(self):\n",
    "        hidden = Variable(torch.zeros(self.n_layers, 1, self.hidden_size))\n",
    "        cell = Variable(torch.zeros(self.n_layers, 1, self.hidden_size))\n",
    "        return (hidden, cell)"
   ]
  },
  {
   "cell_type": "markdown",
   "metadata": {},
   "source": [
    "## 训练网络"
   ]
  },
  {
   "cell_type": "code",
   "execution_count": 27,
   "metadata": {
    "collapsed": true
   },
   "outputs": [],
   "source": [
    "import time\n",
    "import math\n",
    "\n",
    "n_epochs = 100000\n",
    "lstm = LSTMNetwork(n_letters, 10, n_categories, 2)\n",
    "\n",
    "cost = torch.nn.NLLLoss()\n",
    "\n",
    "optimizer = torch.optim.Adam(lstm.parameters(), lr = 0.001)"
   ]
  },
  {
   "cell_type": "code",
   "execution_count": 28,
   "metadata": {
    "collapsed": false
   },
   "outputs": [
    {
     "name": "stdout",
     "output_type": "stream",
     "text": [
      "第0轮, 训练损失: 2.86, 训练进度: 0.0%, (0m 0s), 名字： Safar， 预测国家： Russian, 正确？ ❌(Arabic)\n",
      "第0轮, 训练损失: 2.76, 训练进度: 2.99%, (1m 24s), 名字： Watt， 预测国家： Polish, 正确？ ❌(Scottish)\n",
      "第0轮, 训练损失: 2.54, 训练进度: 5.98%, (2m 23s), 名字： Geroux， 预测国家： Portuguese, 正确？ ❌(French)\n",
      "第0轮, 训练损失: 2.39, 训练进度: 8.97%, (3m 25s), 名字： Mingo， 预测国家： Polish, 正确？ ❌(Spanish)\n",
      "第0轮, 训练损失: 2.28, 训练进度: 11.96%, (4m 28s), 名字： Fortier， 预测国家： German, 正确？ ❌(French)\n",
      "第0轮, 训练损失: 2.20, 训练进度: 14.94%, (5m 25s), 名字： Laar， 预测国家： Arabic, 正确？ ❌(Dutch)\n",
      "第0轮, 训练损失: 2.13, 训练进度: 17.93%, (6m 22s), 名字： Mcmillan， 预测国家： Scottish, 正确？ ✅\n",
      "第1轮, 训练损失: 2.55, 训练进度: 20.0%, (7m 1s), 名字： Sulzbach， 预测国家： Russian, 正确？ ❌(German)\n",
      "第1轮, 训练损失: 1.70, 训练进度: 22.99%, (7m 59s), 名字： Jin， 预测国家： Korean, 正确？ ❌(Chinese)\n",
      "第1轮, 训练损失: 1.70, 训练进度: 25.98%, (8m 53s), 名字： Krhovsky， 预测国家： Russian, 正确？ ❌(Czech)\n",
      "第1轮, 训练损失: 1.67, 训练进度: 28.97%, (9m 53s), 名字： Kouba， 预测国家： Japanese, 正确？ ❌(Czech)\n",
      "第1轮, 训练损失: 1.65, 训练进度: 31.96%, (10m 52s), 名字： Leroy， 预测国家： Scottish, 正确？ ❌(French)\n",
      "第1轮, 训练损失: 1.63, 训练进度: 34.94%, (11m 53s), 名字： Malouf， 预测国家： Arabic, 正确？ ✅\n",
      "第1轮, 训练损失: 1.61, 训练进度: 37.93%, (13m 0s), 名字： Ho， 预测国家： Korean, 正确？ ✅\n",
      "第2轮, 训练损失: 4.15, 训练进度: 40.0%, (13m 43s), 名字： Jenas， 预测国家： Portuguese, 正确？ ❌(English)\n",
      "第2轮, 训练损失: 1.46, 训练进度: 42.99%, (14m 46s), 名字： Tchehovsky， 预测国家： Russian, 正确？ ✅\n",
      "第2轮, 训练损失: 1.44, 训练进度: 45.98%, (15m 48s), 名字： Gravari， 预测国家： Spanish, 正确？ ❌(Greek)\n",
      "第2轮, 训练损失: 1.44, 训练进度: 48.97%, (16m 40s), 名字： Duan， 预测国家： Vietnamese, 正确？ ❌(Chinese)\n",
      "第2轮, 训练损失: 1.43, 训练进度: 51.96%, (17m 31s), 名字： Linville， 预测国家： French, 正确？ ✅\n",
      "第2轮, 训练损失: 1.43, 训练进度: 54.94%, (18m 36s), 名字： Lamberti， 预测国家： Italian, 正确？ ✅\n",
      "第2轮, 训练损失: 1.42, 训练进度: 57.93%, (19m 35s), 名字： Halle， 预测国家： French, 正确？ ❌(German)\n",
      "第3轮, 训练损失: 1.54, 训练进度: 60.0%, (20m 19s), 名字： Araujo， 预测国家： Japanese, 正确？ ❌(Spanish)\n",
      "第3轮, 训练损失: 1.34, 训练进度: 62.99%, (21m 24s), 名字： Hung， 预测国家： Korean, 正确？ ✅\n",
      "第3轮, 训练损失: 1.35, 训练进度: 65.98%, (22m 24s), 名字： Kaufer， 预测国家： French, 正确？ ❌(German)\n",
      "第3轮, 训练损失: 1.34, 训练进度: 68.97%, (23m 30s), 名字： Adler， 预测国家： German, 正确？ ✅\n",
      "第3轮, 训练损失: 1.34, 训练进度: 71.96%, (24m 33s), 名字： Romao， 预测国家： Portuguese, 正确？ ✅\n",
      "第3轮, 训练损失: 1.33, 训练进度: 74.94%, (25m 32s), 名字： Jones， 预测国家： French, 正确？ ❌(Scottish)\n",
      "第3轮, 训练损失: 1.33, 训练进度: 77.93%, (26m 30s), 名字： Kerr， 预测国家： German, 正确？ ❌(Scottish)\n",
      "第4轮, 训练损失: 0.09, 训练进度: 80.0%, (27m 8s), 名字： Krakowski， 预测国家： Polish, 正确？ ✅\n",
      "第4轮, 训练损失: 1.28, 训练进度: 82.99%, (28m 7s), 名字： Landolfi， 预测国家： Italian, 正确？ ✅\n",
      "第4轮, 训练损失: 1.26, 训练进度: 85.98%, (29m 12s), 名字： Poryadin， 预测国家： Irish, 正确？ ❌(Russian)\n",
      "第4轮, 训练损失: 1.25, 训练进度: 88.97%, (30m 11s), 名字： Kuramoto， 预测国家： Italian, 正确？ ❌(Japanese)\n",
      "第4轮, 训练损失: 1.25, 训练进度: 91.96%, (31m 17s), 名字： Cousineau， 预测国家： French, 正确？ ✅\n",
      "第4轮, 训练损失: 1.24, 训练进度: 94.94%, (32m 17s), 名字： Sutherland， 预测国家： Scottish, 正确？ ✅\n",
      "第4轮, 训练损失: 1.24, 训练进度: 97.93%, (33m 21s), 名字： Raimov， 预测国家： Russian, 正确？ ✅\n"
     ]
    }
   ],
   "source": [
    "def time_since(since):\n",
    "    now = time.time()\n",
    "    s = now - since\n",
    "    m = math.floor(s / 60)\n",
    "    s -= m * 60\n",
    "    return '%dm %ds' % (m, s)\n",
    "\n",
    "start = time.time()\n",
    "records = []\n",
    "losses = []\n",
    "for epoch in range(5):\n",
    "    losses = []\n",
    "    for i in range(all_line_num):\n",
    "        category, line, y, x = random_training_pair()\n",
    "        x = Variable(torch.LongTensor(x))\n",
    "        y = Variable(torch.LongTensor(np.array([y])))\n",
    "        optimizer.zero_grad()\n",
    "        \n",
    "        hidden = lstm.initHidden()\n",
    "        output = lstm(x, hidden)\n",
    "        loss = cost(output, y)\n",
    "        losses.append(loss.data.numpy()[0])\n",
    "        \n",
    "        loss.backward()\n",
    "        optimizer.step()\n",
    "        \n",
    "        if i % 3000 == 0:\n",
    "            guess, guess_i = category_from_output(output)\n",
    "            correct = '✅' if  guess == category else '❌(%s)' % category\n",
    "            training_process = (all_line_num * epoch  + i) / (all_line_num * 5) * 100\n",
    "            training_process = '%.2f' % training_process\n",
    "            \n",
    "            print('第{}轮, 训练损失: {:.2f}, 训练进度: {}%, ({}), 名字： {}， 预测国家： {}, 正确？ {}'\\\n",
    "                 .format(epoch, np.mean(losses), float(training_process), time_since(start), line, guess, correct))\n",
    "            \n",
    "            records.append([np.mean(losses)])"
   ]
  },
  {
   "cell_type": "code",
   "execution_count": 29,
   "metadata": {
    "collapsed": false
   },
   "outputs": [
    {
     "data": {
      "text/plain": [
       "<matplotlib.legend.Legend at 0x10d061208>"
      ]
     },
     "execution_count": 29,
     "metadata": {},
     "output_type": "execute_result"
    },
    {
     "data": {
      "image/png": "[encoded data removed]",
      "text/plain": [
       "<matplotlib.figure.Figure at 0x10d0610f0>"
      ]
     },
     "metadata": {},
     "output_type": "display_data"
    }
   ],
   "source": [
    "a = [i[0] for i in records]\n",
    "plt.plot(a, label='Train Loss')\n",
    "plt.xlabel('Steps')\n",
    "plt.ylabel('Loss')\n",
    "plt.legend()"
   ]
  },
  {
   "cell_type": "code",
   "execution_count": 31,
   "metadata": {
    "collapsed": false
   },
   "outputs": [
    {
     "name": "stderr",
     "output_type": "stream",
     "text": [
      "/Users/mac/.pyenv/versions/anaconda3-4.3.0/lib/python3.6/site-packages/torch/serialization.py:147: UserWarning: Couldn't retrieve source code for container of type LSTMNetwork. It won't be checked for correctness upon loading.\n",
      "  \"type \" + obj.__name__ + \". It won't be checked \"\n"
     ]
    },
    {
     "data": {
      "image/png": "[encoded data removed]",
      "text/plain": [
       "<matplotlib.figure.Figure at 0x10d1cdb70>"
      ]
     },
     "metadata": {},
     "output_type": "display_data"
    },
    {
     "name": "stdout",
     "output_type": "stream",
     "text": [
      "\n",
      "> Dovesky\n",
      "(-0.26) Russian\n",
      "(-2.33) Polish\n",
      "(-2.63) Czech\n",
      "\n",
      "> Jackson\n",
      "(-0.62) Scottish\n",
      "(-1.85) English\n",
      "(-2.66) Dutch\n",
      "\n",
      "> Satoshi\n",
      "(-0.05) Japanese\n",
      "(-3.65) Arabic\n",
      "(-4.64) Portuguese\n",
      "\n",
      "> Han\n",
      "(-1.10) Vietnamese\n",
      "(-1.20) Korean\n",
      "(-1.78) Chinese\n"
     ]
    }
   ],
   "source": [
    "torch.save(lstm, 'lstm.mdl')\n",
    "lstm = torch.load('lstm.mdl')\n",
    "\n",
    "import matplotlib.pyplot as plt\n",
    "\n",
    "confusion = torch.zeros(n_categories, n_categories)\n",
    "n_confusion = 10000\n",
    "\n",
    "def evaluate(line_list):\n",
    "    hidden = lstm.initHidden()\n",
    "    line_variable = Variable(torch.LongTensor(line_list))\n",
    "    output = lstm(line_variable, hidden)\n",
    "    return output\n",
    "\n",
    "for i in range(n_confusion):\n",
    "    category, line, category_index, line_list = random_training_pair()\n",
    "    output = evaluate(line_list)\n",
    "    guess, guess_i = category_from_output(output)\n",
    "    confusion[category_index][guess_i] += 1\n",
    "for i in range(n_categories):\n",
    "    confusion[i] = confusion[i] / confusion[i].sum()\n",
    "    \n",
    "fig = plt.figure()\n",
    "ax = fig.add_subplot(111)\n",
    "\n",
    "cax = ax.matshow(confusion.numpy())\n",
    "fig.colorbar(cax)\n",
    "\n",
    "ax.set_xticklabels([''] + all_categories, rotation=90)\n",
    "ax.set_yticklabels([''] + all_categories)\n",
    "\n",
    "ax.xaxis.set_major_locator(ticker.MultipleLocator(1))\n",
    "ax.yaxis.set_major_locator(ticker.MultipleLocator(1))\n",
    "\n",
    "plt.show()\n",
    "\n",
    "\n",
    "def predict(input_line, n_predictions = 3):\n",
    "    print('\\n> %s' % input_line)\n",
    "    input_line = list(map(lambda x: all_letters.find(x), input_line))\n",
    "    output = evaluate(input_line)\n",
    "    \n",
    "    topv, topi = output.data.topk(n_predictions, 1, True)\n",
    "    \n",
    "    predictions = []\n",
    "    for i in range(n_predictions):\n",
    "        value = topv[0][i]\n",
    "        category_index = topi[0][i]\n",
    "        print('(%.2f) %s' % (value, all_categories[category_index]))\n",
    "        predictions.append([value, all_categories[category_index]])\n",
    "        \n",
    "predict('Dovesky')\n",
    "predict('Jackson')\n",
    "predict('Satoshi')\n",
    "predict('Han')"
   ]
  },
  {
   "cell_type": "code",
   "execution_count": null,
   "metadata": {
    "collapsed": true
   },
   "outputs": [],
   "source": []
  }
 ],
 "metadata": {
  "kernelspec": {
   "display_name": "Python 3",
   "language": "python",
   "name": "python3"
  },
  "language_info": {
   "codemirror_mode": {
    "name": "ipython",
    "version": 3
   },
   "file_extension": ".py",
   "mimetype": "text/x-python",
   "name": "python",
   "nbconvert_exporter": "python",
   "pygments_lexer": "ipython3",
   "version": "3.6.0"
  },
  "toc": {
   "nav_menu": {},
   "number_sections": true,
   "sideBar": true,
   "skip_h1_title": false,
   "toc_cell": false,
   "toc_position": {},
   "toc_section_display": "block",
   "toc_window_display": false
  }
 },
 "nbformat": 4,
 "nbformat_minor": 2
}
